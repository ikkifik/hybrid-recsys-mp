{
 "cells": [
  {
   "cell_type": "code",
   "execution_count": 32,
   "metadata": {
    "scrolled": true
   },
   "outputs": [],
   "source": [
    "# import nltk\n",
    "# nltk.download(\"stopwords\")\n",
    "# nltk.download(\"punkt\")"
   ]
  },
  {
   "cell_type": "code",
   "execution_count": 33,
   "metadata": {},
   "outputs": [],
   "source": [
    "import pandas as pd\n",
    "\n",
    "from nltk.tokenize import word_tokenize\n",
    "from nltk.corpus import stopwords\n",
    "from sklearn.feature_extraction.text import TfidfVectorizer, CountVectorizer\n",
    "from sklearn.metrics.pairwise import cosine_similarity\n",
    "\n",
    "from string import punctuation"
   ]
  },
  {
   "cell_type": "code",
   "execution_count": 34,
   "metadata": {},
   "outputs": [
    {
     "data": {
      "text/html": [
       "<div>\n",
       "<style scoped>\n",
       "    .dataframe tbody tr th:only-of-type {\n",
       "        vertical-align: middle;\n",
       "    }\n",
       "\n",
       "    .dataframe tbody tr th {\n",
       "        vertical-align: top;\n",
       "    }\n",
       "\n",
       "    .dataframe thead th {\n",
       "        text-align: right;\n",
       "    }\n",
       "</style>\n",
       "<table border=\"1\" class=\"dataframe\">\n",
       "  <thead>\n",
       "    <tr style=\"text-align: right;\">\n",
       "      <th></th>\n",
       "      <th>0</th>\n",
       "    </tr>\n",
       "  </thead>\n",
       "  <tbody>\n",
       "    <tr>\n",
       "      <th>0</th>\n",
       "      <td>Original baterai charger laptop</td>\n",
       "    </tr>\n",
       "    <tr>\n",
       "      <th>1</th>\n",
       "      <td>Adaptor Charger Laptop</td>\n",
       "    </tr>\n",
       "    <tr>\n",
       "      <th>2</th>\n",
       "      <td>mouse laptop usb, free windows 10 Pro</td>\n",
       "    </tr>\n",
       "    <tr>\n",
       "      <th>3</th>\n",
       "      <td>Laptop dual baterai BONUS mouse!</td>\n",
       "    </tr>\n",
       "    <tr>\n",
       "      <th>4</th>\n",
       "      <td>SSD cocok untuk Laptop</td>\n",
       "    </tr>\n",
       "  </tbody>\n",
       "</table>\n",
       "</div>"
      ],
      "text/plain": [
       "                                       0\n",
       "0        Original baterai charger laptop\n",
       "1                 Adaptor Charger Laptop\n",
       "2  mouse laptop usb, free windows 10 Pro\n",
       "3       Laptop dual baterai BONUS mouse!\n",
       "4                 SSD cocok untuk Laptop"
      ]
     },
     "execution_count": 34,
     "metadata": {},
     "output_type": "execute_result"
    }
   ],
   "source": [
    "text = [\n",
    "    'Original baterai charger laptop',\n",
    "    'Adaptor Charger Laptop',\n",
    "    'mouse laptop usb, free windows 10 Pro',\n",
    "    'Laptop dual baterai BONUS mouse!',\n",
    "    'SSD cocok untuk Laptop'\n",
    "]\n",
    "pd.DataFrame(text)"
   ]
  },
  {
   "cell_type": "code",
   "execution_count": 35,
   "metadata": {},
   "outputs": [],
   "source": [
    "bow = CountVectorizer()\n",
    "bow_matrix = bow.fit_transform(text)"
   ]
  },
  {
   "cell_type": "code",
   "execution_count": 36,
   "metadata": {},
   "outputs": [
    {
     "data": {
      "text/plain": [
       "['10',\n",
       " 'adaptor',\n",
       " 'baterai',\n",
       " 'bonus',\n",
       " 'charger',\n",
       " 'cocok',\n",
       " 'dual',\n",
       " 'free',\n",
       " 'laptop',\n",
       " 'mouse',\n",
       " 'original',\n",
       " 'pro',\n",
       " 'ssd',\n",
       " 'untuk',\n",
       " 'usb',\n",
       " 'windows']"
      ]
     },
     "execution_count": 36,
     "metadata": {},
     "output_type": "execute_result"
    }
   ],
   "source": [
    "bow.get_feature_names()"
   ]
  },
  {
   "cell_type": "code",
   "execution_count": 37,
   "metadata": {},
   "outputs": [
    {
     "data": {
      "text/plain": [
       "array([[0, 0, 1, 0, 1, 0, 0, 0, 1, 0, 1, 0, 0, 0, 0, 0],\n",
       "       [0, 1, 0, 0, 1, 0, 0, 0, 1, 0, 0, 0, 0, 0, 0, 0],\n",
       "       [1, 0, 0, 0, 0, 0, 0, 1, 1, 1, 0, 1, 0, 0, 1, 1],\n",
       "       [0, 0, 1, 1, 0, 0, 1, 0, 1, 1, 0, 0, 0, 0, 0, 0],\n",
       "       [0, 0, 0, 0, 0, 1, 0, 0, 1, 0, 0, 0, 1, 1, 0, 0]])"
      ]
     },
     "execution_count": 37,
     "metadata": {},
     "output_type": "execute_result"
    }
   ],
   "source": [
    "bow_matrix.toarray()"
   ]
  },
  {
   "cell_type": "code",
   "execution_count": 38,
   "metadata": {
    "scrolled": true
   },
   "outputs": [
    {
     "data": {
      "text/html": [
       "<div>\n",
       "<style scoped>\n",
       "    .dataframe tbody tr th:only-of-type {\n",
       "        vertical-align: middle;\n",
       "    }\n",
       "\n",
       "    .dataframe tbody tr th {\n",
       "        vertical-align: top;\n",
       "    }\n",
       "\n",
       "    .dataframe thead th {\n",
       "        text-align: right;\n",
       "    }\n",
       "</style>\n",
       "<table border=\"1\" class=\"dataframe\">\n",
       "  <thead>\n",
       "    <tr style=\"text-align: right;\">\n",
       "      <th></th>\n",
       "      <th>10</th>\n",
       "      <th>adaptor</th>\n",
       "      <th>baterai</th>\n",
       "      <th>bonus</th>\n",
       "      <th>charger</th>\n",
       "      <th>cocok</th>\n",
       "      <th>dual</th>\n",
       "      <th>free</th>\n",
       "      <th>laptop</th>\n",
       "      <th>mouse</th>\n",
       "      <th>original</th>\n",
       "      <th>pro</th>\n",
       "      <th>ssd</th>\n",
       "      <th>untuk</th>\n",
       "      <th>usb</th>\n",
       "      <th>windows</th>\n",
       "    </tr>\n",
       "  </thead>\n",
       "  <tbody>\n",
       "    <tr>\n",
       "      <th>Original baterai charger laptop</th>\n",
       "      <td>0</td>\n",
       "      <td>0</td>\n",
       "      <td>1</td>\n",
       "      <td>0</td>\n",
       "      <td>1</td>\n",
       "      <td>0</td>\n",
       "      <td>0</td>\n",
       "      <td>0</td>\n",
       "      <td>1</td>\n",
       "      <td>0</td>\n",
       "      <td>1</td>\n",
       "      <td>0</td>\n",
       "      <td>0</td>\n",
       "      <td>0</td>\n",
       "      <td>0</td>\n",
       "      <td>0</td>\n",
       "    </tr>\n",
       "    <tr>\n",
       "      <th>Adaptor Charger Laptop</th>\n",
       "      <td>0</td>\n",
       "      <td>1</td>\n",
       "      <td>0</td>\n",
       "      <td>0</td>\n",
       "      <td>1</td>\n",
       "      <td>0</td>\n",
       "      <td>0</td>\n",
       "      <td>0</td>\n",
       "      <td>1</td>\n",
       "      <td>0</td>\n",
       "      <td>0</td>\n",
       "      <td>0</td>\n",
       "      <td>0</td>\n",
       "      <td>0</td>\n",
       "      <td>0</td>\n",
       "      <td>0</td>\n",
       "    </tr>\n",
       "    <tr>\n",
       "      <th>mouse laptop usb, free windows 10 Pro</th>\n",
       "      <td>1</td>\n",
       "      <td>0</td>\n",
       "      <td>0</td>\n",
       "      <td>0</td>\n",
       "      <td>0</td>\n",
       "      <td>0</td>\n",
       "      <td>0</td>\n",
       "      <td>1</td>\n",
       "      <td>1</td>\n",
       "      <td>1</td>\n",
       "      <td>0</td>\n",
       "      <td>1</td>\n",
       "      <td>0</td>\n",
       "      <td>0</td>\n",
       "      <td>1</td>\n",
       "      <td>1</td>\n",
       "    </tr>\n",
       "    <tr>\n",
       "      <th>Laptop dual baterai BONUS mouse!</th>\n",
       "      <td>0</td>\n",
       "      <td>0</td>\n",
       "      <td>1</td>\n",
       "      <td>1</td>\n",
       "      <td>0</td>\n",
       "      <td>0</td>\n",
       "      <td>1</td>\n",
       "      <td>0</td>\n",
       "      <td>1</td>\n",
       "      <td>1</td>\n",
       "      <td>0</td>\n",
       "      <td>0</td>\n",
       "      <td>0</td>\n",
       "      <td>0</td>\n",
       "      <td>0</td>\n",
       "      <td>0</td>\n",
       "    </tr>\n",
       "    <tr>\n",
       "      <th>SSD cocok untuk Laptop</th>\n",
       "      <td>0</td>\n",
       "      <td>0</td>\n",
       "      <td>0</td>\n",
       "      <td>0</td>\n",
       "      <td>0</td>\n",
       "      <td>1</td>\n",
       "      <td>0</td>\n",
       "      <td>0</td>\n",
       "      <td>1</td>\n",
       "      <td>0</td>\n",
       "      <td>0</td>\n",
       "      <td>0</td>\n",
       "      <td>1</td>\n",
       "      <td>1</td>\n",
       "      <td>0</td>\n",
       "      <td>0</td>\n",
       "    </tr>\n",
       "  </tbody>\n",
       "</table>\n",
       "</div>"
      ],
      "text/plain": [
       "                                       10  adaptor  baterai  bonus  charger  \\\n",
       "Original baterai charger laptop         0        0        1      0        1   \n",
       "Adaptor Charger Laptop                  0        1        0      0        1   \n",
       "mouse laptop usb, free windows 10 Pro   1        0        0      0        0   \n",
       "Laptop dual baterai BONUS mouse!        0        0        1      1        0   \n",
       "SSD cocok untuk Laptop                  0        0        0      0        0   \n",
       "\n",
       "                                       cocok  dual  free  laptop  mouse  \\\n",
       "Original baterai charger laptop            0     0     0       1      0   \n",
       "Adaptor Charger Laptop                     0     0     0       1      0   \n",
       "mouse laptop usb, free windows 10 Pro      0     0     1       1      1   \n",
       "Laptop dual baterai BONUS mouse!           0     1     0       1      1   \n",
       "SSD cocok untuk Laptop                     1     0     0       1      0   \n",
       "\n",
       "                                       original  pro  ssd  untuk  usb  windows  \n",
       "Original baterai charger laptop               1    0    0      0    0        0  \n",
       "Adaptor Charger Laptop                        0    0    0      0    0        0  \n",
       "mouse laptop usb, free windows 10 Pro         0    1    0      0    1        1  \n",
       "Laptop dual baterai BONUS mouse!              0    0    0      0    0        0  \n",
       "SSD cocok untuk Laptop                        0    0    1      1    0        0  "
      ]
     },
     "execution_count": 38,
     "metadata": {},
     "output_type": "execute_result"
    }
   ],
   "source": [
    "pd.DataFrame(bow_matrix.toarray(), columns=bow.get_feature_names(), index=text)"
   ]
  },
  {
   "cell_type": "markdown",
   "metadata": {},
   "source": [
    "# TF-IDF Classifier"
   ]
  },
  {
   "cell_type": "markdown",
   "metadata": {},
   "source": [
    "# Coba - coba"
   ]
  },
  {
   "cell_type": "markdown",
   "metadata": {},
   "source": [
    "### Case Folding example"
   ]
  },
  {
   "cell_type": "code",
   "execution_count": 39,
   "metadata": {},
   "outputs": [],
   "source": [
    "nganu = []\n",
    "for i in text:\n",
    "    nganu.append(i.lower())"
   ]
  },
  {
   "cell_type": "code",
   "execution_count": 40,
   "metadata": {},
   "outputs": [
    {
     "data": {
      "text/html": [
       "<div>\n",
       "<style scoped>\n",
       "    .dataframe tbody tr th:only-of-type {\n",
       "        vertical-align: middle;\n",
       "    }\n",
       "\n",
       "    .dataframe tbody tr th {\n",
       "        vertical-align: top;\n",
       "    }\n",
       "\n",
       "    .dataframe thead th {\n",
       "        text-align: right;\n",
       "    }\n",
       "</style>\n",
       "<table border=\"1\" class=\"dataframe\">\n",
       "  <thead>\n",
       "    <tr style=\"text-align: right;\">\n",
       "      <th></th>\n",
       "      <th>0</th>\n",
       "    </tr>\n",
       "  </thead>\n",
       "  <tbody>\n",
       "    <tr>\n",
       "      <th>0</th>\n",
       "      <td>original baterai charger laptop</td>\n",
       "    </tr>\n",
       "    <tr>\n",
       "      <th>1</th>\n",
       "      <td>adaptor charger laptop</td>\n",
       "    </tr>\n",
       "    <tr>\n",
       "      <th>2</th>\n",
       "      <td>mouse laptop usb, free windows 10 pro</td>\n",
       "    </tr>\n",
       "    <tr>\n",
       "      <th>3</th>\n",
       "      <td>laptop dual baterai bonus mouse!</td>\n",
       "    </tr>\n",
       "    <tr>\n",
       "      <th>4</th>\n",
       "      <td>ssd cocok untuk laptop</td>\n",
       "    </tr>\n",
       "  </tbody>\n",
       "</table>\n",
       "</div>"
      ],
      "text/plain": [
       "                                       0\n",
       "0        original baterai charger laptop\n",
       "1                 adaptor charger laptop\n",
       "2  mouse laptop usb, free windows 10 pro\n",
       "3       laptop dual baterai bonus mouse!\n",
       "4                 ssd cocok untuk laptop"
      ]
     },
     "execution_count": 40,
     "metadata": {},
     "output_type": "execute_result"
    }
   ],
   "source": [
    "pd.DataFrame(nganu)"
   ]
  },
  {
   "cell_type": "markdown",
   "metadata": {},
   "source": [
    "### Tokenizing example "
   ]
  },
  {
   "cell_type": "code",
   "execution_count": 41,
   "metadata": {},
   "outputs": [
    {
     "data": {
      "text/plain": [
       "['original baterai charger laptop',\n",
       " 'adaptor charger laptop',\n",
       " 'mouse laptop usb free windows 10 pro',\n",
       " 'laptop dual baterai bonus mouse',\n",
       " 'ssd cocok untuk laptop']"
      ]
     },
     "execution_count": 41,
     "metadata": {},
     "output_type": "execute_result"
    }
   ],
   "source": [
    "punkclean = [''.join(c for c in s if c not in punctuation) for s in nganu]\n",
    "punkclean"
   ]
  },
  {
   "cell_type": "code",
   "execution_count": 42,
   "metadata": {},
   "outputs": [],
   "source": [
    "tkzp = []\n",
    "for i in punkclean:\n",
    "    tkzp.append(i.split())"
   ]
  },
  {
   "cell_type": "code",
   "execution_count": 43,
   "metadata": {},
   "outputs": [
    {
     "data": {
      "text/plain": [
       "[['original', 'baterai', 'charger', 'laptop'],\n",
       " ['adaptor', 'charger', 'laptop'],\n",
       " ['mouse', 'laptop', 'usb', 'free', 'windows', '10', 'pro'],\n",
       " ['laptop', 'dual', 'baterai', 'bonus', 'mouse'],\n",
       " ['ssd', 'cocok', 'untuk', 'laptop']]"
      ]
     },
     "execution_count": 43,
     "metadata": {},
     "output_type": "execute_result"
    }
   ],
   "source": [
    "tkzp"
   ]
  },
  {
   "cell_type": "markdown",
   "metadata": {},
   "source": [
    "### Filtering example"
   ]
  },
  {
   "cell_type": "code",
   "execution_count": 44,
   "metadata": {
    "scrolled": true
   },
   "outputs": [
    {
     "data": {
      "text/plain": [
       "['original baterai charger laptop',\n",
       " 'adaptor charger laptop',\n",
       " 'mouse laptop usb free windows 10 pro',\n",
       " 'laptop dual baterai bonus mouse',\n",
       " 'ssd cocok laptop']"
      ]
     },
     "execution_count": 44,
     "metadata": {},
     "output_type": "execute_result"
    }
   ],
   "source": [
    "sw_indo= stopwords.words(\"indonesian\")\n",
    "swclean = [' '.join(c for c in s if c not in sw_indo) for s in tkzp]\n",
    "swclean"
   ]
  },
  {
   "cell_type": "markdown",
   "metadata": {},
   "source": [
    "# TF-IDF Classifier"
   ]
  },
  {
   "cell_type": "code",
   "execution_count": 45,
   "metadata": {},
   "outputs": [],
   "source": [
    "sw_indo= stopwords.words(\"indonesian\")"
   ]
  },
  {
   "cell_type": "code",
   "execution_count": 48,
   "metadata": {},
   "outputs": [],
   "source": [
    "text = [''.join(c for c in s if c not in punctuation) for s in text]"
   ]
  },
  {
   "cell_type": "code",
   "execution_count": 49,
   "metadata": {
    "scrolled": true
   },
   "outputs": [
    {
     "data": {
      "text/plain": [
       "['10',\n",
       " 'adaptor',\n",
       " 'baterai',\n",
       " 'bonus',\n",
       " 'charger',\n",
       " 'cocok',\n",
       " 'dual',\n",
       " 'free',\n",
       " 'laptop',\n",
       " 'mouse',\n",
       " 'original',\n",
       " 'pro',\n",
       " 'ssd',\n",
       " 'usb',\n",
       " 'windows']"
      ]
     },
     "execution_count": 49,
     "metadata": {},
     "output_type": "execute_result"
    }
   ],
   "source": [
    "tfidf = TfidfVectorizer(tokenizer=word_tokenize, stop_words=sw_indo)\n",
    "tfidf_matrix = tfidf.fit_transform(text)\n",
    "tfidf.get_feature_names()"
   ]
  },
  {
   "cell_type": "code",
   "execution_count": 50,
   "metadata": {},
   "outputs": [
    {
     "data": {
      "text/plain": [
       "array([[0.        , 0.        , 0.50733821, 0.        , 0.50733821,\n",
       "        0.        , 0.        , 0.        , 0.29964212, 0.        ,\n",
       "        0.62883263, 0.        , 0.        , 0.        , 0.        ],\n",
       "       [0.        , 0.72971837, 0.        , 0.        , 0.58873218,\n",
       "        0.        , 0.        , 0.        , 0.34771471, 0.        ,\n",
       "        0.        , 0.        , 0.        , 0.        , 0.        ],\n",
       "       [0.41246413, 0.        , 0.        , 0.        , 0.        ,\n",
       "        0.        , 0.        , 0.41246413, 0.19654137, 0.33277347,\n",
       "        0.        , 0.41246413, 0.        , 0.41246413, 0.41246413],\n",
       "       [0.        , 0.        , 0.42948052, 0.53233003, 0.        ,\n",
       "        0.        , 0.53233003, 0.        , 0.25365811, 0.42948052,\n",
       "        0.        , 0.        , 0.        , 0.        , 0.        ],\n",
       "       [0.        , 0.        , 0.        , 0.        , 0.        ,\n",
       "        0.67009179, 0.        , 0.        , 0.31930233, 0.        ,\n",
       "        0.        , 0.        , 0.67009179, 0.        , 0.        ]])"
      ]
     },
     "execution_count": 50,
     "metadata": {},
     "output_type": "execute_result"
    }
   ],
   "source": [
    "tfidf_matrix.toarray()"
   ]
  },
  {
   "cell_type": "code",
   "execution_count": 51,
   "metadata": {
    "scrolled": true
   },
   "outputs": [
    {
     "data": {
      "text/html": [
       "<div>\n",
       "<style scoped>\n",
       "    .dataframe tbody tr th:only-of-type {\n",
       "        vertical-align: middle;\n",
       "    }\n",
       "\n",
       "    .dataframe tbody tr th {\n",
       "        vertical-align: top;\n",
       "    }\n",
       "\n",
       "    .dataframe thead th {\n",
       "        text-align: right;\n",
       "    }\n",
       "</style>\n",
       "<table border=\"1\" class=\"dataframe\">\n",
       "  <thead>\n",
       "    <tr style=\"text-align: right;\">\n",
       "      <th></th>\n",
       "      <th>10</th>\n",
       "      <th>adaptor</th>\n",
       "      <th>baterai</th>\n",
       "      <th>bonus</th>\n",
       "      <th>charger</th>\n",
       "      <th>cocok</th>\n",
       "      <th>dual</th>\n",
       "      <th>free</th>\n",
       "      <th>laptop</th>\n",
       "      <th>mouse</th>\n",
       "      <th>original</th>\n",
       "      <th>pro</th>\n",
       "      <th>ssd</th>\n",
       "      <th>usb</th>\n",
       "      <th>windows</th>\n",
       "    </tr>\n",
       "  </thead>\n",
       "  <tbody>\n",
       "    <tr>\n",
       "      <th>Original baterai charger laptop</th>\n",
       "      <td>0.000000</td>\n",
       "      <td>0.000000</td>\n",
       "      <td>0.507338</td>\n",
       "      <td>0.00000</td>\n",
       "      <td>0.507338</td>\n",
       "      <td>0.000000</td>\n",
       "      <td>0.00000</td>\n",
       "      <td>0.000000</td>\n",
       "      <td>0.299642</td>\n",
       "      <td>0.000000</td>\n",
       "      <td>0.628833</td>\n",
       "      <td>0.000000</td>\n",
       "      <td>0.000000</td>\n",
       "      <td>0.000000</td>\n",
       "      <td>0.000000</td>\n",
       "    </tr>\n",
       "    <tr>\n",
       "      <th>Adaptor Charger Laptop</th>\n",
       "      <td>0.000000</td>\n",
       "      <td>0.729718</td>\n",
       "      <td>0.000000</td>\n",
       "      <td>0.00000</td>\n",
       "      <td>0.588732</td>\n",
       "      <td>0.000000</td>\n",
       "      <td>0.00000</td>\n",
       "      <td>0.000000</td>\n",
       "      <td>0.347715</td>\n",
       "      <td>0.000000</td>\n",
       "      <td>0.000000</td>\n",
       "      <td>0.000000</td>\n",
       "      <td>0.000000</td>\n",
       "      <td>0.000000</td>\n",
       "      <td>0.000000</td>\n",
       "    </tr>\n",
       "    <tr>\n",
       "      <th>mouse laptop usb free windows 10 Pro</th>\n",
       "      <td>0.412464</td>\n",
       "      <td>0.000000</td>\n",
       "      <td>0.000000</td>\n",
       "      <td>0.00000</td>\n",
       "      <td>0.000000</td>\n",
       "      <td>0.000000</td>\n",
       "      <td>0.00000</td>\n",
       "      <td>0.412464</td>\n",
       "      <td>0.196541</td>\n",
       "      <td>0.332773</td>\n",
       "      <td>0.000000</td>\n",
       "      <td>0.412464</td>\n",
       "      <td>0.000000</td>\n",
       "      <td>0.412464</td>\n",
       "      <td>0.412464</td>\n",
       "    </tr>\n",
       "    <tr>\n",
       "      <th>Laptop dual baterai BONUS mouse</th>\n",
       "      <td>0.000000</td>\n",
       "      <td>0.000000</td>\n",
       "      <td>0.429481</td>\n",
       "      <td>0.53233</td>\n",
       "      <td>0.000000</td>\n",
       "      <td>0.000000</td>\n",
       "      <td>0.53233</td>\n",
       "      <td>0.000000</td>\n",
       "      <td>0.253658</td>\n",
       "      <td>0.429481</td>\n",
       "      <td>0.000000</td>\n",
       "      <td>0.000000</td>\n",
       "      <td>0.000000</td>\n",
       "      <td>0.000000</td>\n",
       "      <td>0.000000</td>\n",
       "    </tr>\n",
       "    <tr>\n",
       "      <th>SSD cocok untuk Laptop</th>\n",
       "      <td>0.000000</td>\n",
       "      <td>0.000000</td>\n",
       "      <td>0.000000</td>\n",
       "      <td>0.00000</td>\n",
       "      <td>0.000000</td>\n",
       "      <td>0.670092</td>\n",
       "      <td>0.00000</td>\n",
       "      <td>0.000000</td>\n",
       "      <td>0.319302</td>\n",
       "      <td>0.000000</td>\n",
       "      <td>0.000000</td>\n",
       "      <td>0.000000</td>\n",
       "      <td>0.670092</td>\n",
       "      <td>0.000000</td>\n",
       "      <td>0.000000</td>\n",
       "    </tr>\n",
       "  </tbody>\n",
       "</table>\n",
       "</div>"
      ],
      "text/plain": [
       "                                            10   adaptor   baterai    bonus  \\\n",
       "Original baterai charger laptop       0.000000  0.000000  0.507338  0.00000   \n",
       "Adaptor Charger Laptop                0.000000  0.729718  0.000000  0.00000   \n",
       "mouse laptop usb free windows 10 Pro  0.412464  0.000000  0.000000  0.00000   \n",
       "Laptop dual baterai BONUS mouse       0.000000  0.000000  0.429481  0.53233   \n",
       "SSD cocok untuk Laptop                0.000000  0.000000  0.000000  0.00000   \n",
       "\n",
       "                                       charger     cocok     dual      free  \\\n",
       "Original baterai charger laptop       0.507338  0.000000  0.00000  0.000000   \n",
       "Adaptor Charger Laptop                0.588732  0.000000  0.00000  0.000000   \n",
       "mouse laptop usb free windows 10 Pro  0.000000  0.000000  0.00000  0.412464   \n",
       "Laptop dual baterai BONUS mouse       0.000000  0.000000  0.53233  0.000000   \n",
       "SSD cocok untuk Laptop                0.000000  0.670092  0.00000  0.000000   \n",
       "\n",
       "                                        laptop     mouse  original       pro  \\\n",
       "Original baterai charger laptop       0.299642  0.000000  0.628833  0.000000   \n",
       "Adaptor Charger Laptop                0.347715  0.000000  0.000000  0.000000   \n",
       "mouse laptop usb free windows 10 Pro  0.196541  0.332773  0.000000  0.412464   \n",
       "Laptop dual baterai BONUS mouse       0.253658  0.429481  0.000000  0.000000   \n",
       "SSD cocok untuk Laptop                0.319302  0.000000  0.000000  0.000000   \n",
       "\n",
       "                                           ssd       usb   windows  \n",
       "Original baterai charger laptop       0.000000  0.000000  0.000000  \n",
       "Adaptor Charger Laptop                0.000000  0.000000  0.000000  \n",
       "mouse laptop usb free windows 10 Pro  0.000000  0.412464  0.412464  \n",
       "Laptop dual baterai BONUS mouse       0.000000  0.000000  0.000000  \n",
       "SSD cocok untuk Laptop                0.670092  0.000000  0.000000  "
      ]
     },
     "execution_count": 51,
     "metadata": {},
     "output_type": "execute_result"
    }
   ],
   "source": [
    "df = pd.DataFrame(tfidf_matrix.toarray(), columns=tfidf.get_feature_names(), index=text)\n",
    "df"
   ]
  },
  {
   "cell_type": "markdown",
   "metadata": {},
   "source": [
    "# Perbandingan matrix TF-IDF dengan TF/BoW"
   ]
  },
  {
   "cell_type": "code",
   "execution_count": null,
   "metadata": {},
   "outputs": [],
   "source": [
    "# pd.DataFrame(bow_matrix.toarray(), columns=bow.get_feature_names(), index=text)"
   ]
  },
  {
   "cell_type": "code",
   "execution_count": null,
   "metadata": {},
   "outputs": [],
   "source": [
    "# pd.DataFrame(tfidf_matrix.toarray(), columns=tfidf.get_feature_names(), index=text)"
   ]
  },
  {
   "cell_type": "markdown",
   "metadata": {},
   "source": [
    "# Perhitungan Cosine Similarity"
   ]
  },
  {
   "cell_type": "code",
   "execution_count": null,
   "metadata": {},
   "outputs": [],
   "source": [
    "dff = pd.DataFrame(text)\n",
    "dff"
   ]
  },
  {
   "cell_type": "code",
   "execution_count": null,
   "metadata": {},
   "outputs": [],
   "source": [
    "sim = cosine_similarity(tfidf_matrix[0], tfidf_matrix)\n",
    "sim"
   ]
  },
  {
   "cell_type": "code",
   "execution_count": null,
   "metadata": {},
   "outputs": [],
   "source": [
    "# rec_idx = sim.argsort()\n",
    "# rec_idx"
   ]
  },
  {
   "cell_type": "code",
   "execution_count": null,
   "metadata": {},
   "outputs": [],
   "source": [
    "rec_idx = sim.argsort()[0, -6:-1]\n",
    "rec_idx = rec_idx[::-1]\n",
    "rec_idx"
   ]
  },
  {
   "cell_type": "code",
   "execution_count": null,
   "metadata": {
    "scrolled": true
   },
   "outputs": [],
   "source": [
    "dff.loc[rec_idx]"
   ]
  },
  {
   "cell_type": "code",
   "execution_count": null,
   "metadata": {},
   "outputs": [],
   "source": []
  },
  {
   "cell_type": "code",
   "execution_count": null,
   "metadata": {},
   "outputs": [],
   "source": []
  }
 ],
 "metadata": {
  "kernelspec": {
   "display_name": "Python 3",
   "language": "python",
   "name": "python3"
  },
  "language_info": {
   "codemirror_mode": {
    "name": "ipython",
    "version": 3
   },
   "file_extension": ".py",
   "mimetype": "text/x-python",
   "name": "python",
   "nbconvert_exporter": "python",
   "pygments_lexer": "ipython3",
   "version": "3.8.5"
  }
 },
 "nbformat": 4,
 "nbformat_minor": 4
}
